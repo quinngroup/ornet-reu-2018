{
 "cells": [
  {
   "cell_type": "code",
   "execution_count": 22,
   "metadata": {},
   "outputs": [],
   "source": [
    "import numpy as np\n",
    "import raster_scan\n",
    "import unittest"
   ]
  },
  {
   "cell_type": "code",
   "execution_count": 27,
   "metadata": {},
   "outputs": [],
   "source": [
    "class TestRasterScan(unittest.TestCase):\n",
    "\n",
    "    def test_rasterscan(self):\n",
    "        y = np.arange(18).reshape((3, 3, 2))\n",
    "        y = np.swapaxes(y, 0, 2)\n",
    "        y = np.swapaxes(y, 0, 1) # y is same format as our input videos\n",
    "        z = np.arange(18).reshape((3, 6)) # z is now what we want as output if y was our input\n",
    "        \n",
    "        np.testing.assert_array_equal(raster_scan.raster_scan(y), z)\n"
   ]
  },
  {
   "cell_type": "code",
   "execution_count": 28,
   "metadata": {},
   "outputs": [
    {
     "name": "stderr",
     "output_type": "stream",
     "text": [
      "F\n",
      "======================================================================\n",
      "FAIL: test_rasterscan (__main__.TestRasterScan)\n",
      "----------------------------------------------------------------------\n",
      "Traceback (most recent call last):\n",
      "  File \"<ipython-input-27-e6847a9c0ba4>\", line 9, in test_rasterscan\n",
      "    np.testing.assert_array_equal(raster_scan.raster_scan(y), z)\n",
      "  File \"/anaconda3/lib/python3.6/site-packages/numpy/testing/nose_tools/utils.py\", line 855, in assert_array_equal\n",
      "    verbose=verbose, header='Arrays are not equal')\n",
      "  File \"/anaconda3/lib/python3.6/site-packages/numpy/testing/nose_tools/utils.py\", line 779, in assert_array_compare\n",
      "    raise AssertionError(msg)\n",
      "AssertionError: \n",
      "Arrays are not equal\n",
      "\n",
      "(mismatch 66.66666666666666%)\n",
      " x: array([[ 0,  1,  6,  7, 12, 13],\n",
      "       [ 2,  3,  8,  9, 14, 15],\n",
      "       [ 4,  5, 10, 11, 16, 17]])\n",
      " y: array([[ 0,  1,  2,  3,  4,  5],\n",
      "       [ 6,  7,  8,  9, 10, 11],\n",
      "       [12, 13, 14, 15, 16, 17]])\n",
      "\n",
      "----------------------------------------------------------------------\n",
      "Ran 1 test in 0.003s\n",
      "\n",
      "FAILED (failures=1)\n"
     ]
    }
   ],
   "source": [
    "if __name__ == '__main__':\n",
    "    unittest.main(argv=['first-arg-is-ignored'], exit=False)    \n"
   ]
  },
  {
   "cell_type": "code",
   "execution_count": 15,
   "metadata": {},
   "outputs": [],
   "source": [
    "np.testing.assert_array_equal(raster_scan.raster_scan(y), z)"
   ]
  },
  {
   "cell_type": "code",
   "execution_count": 11,
   "metadata": {},
   "outputs": [
    {
     "name": "stdout",
     "output_type": "stream",
     "text": [
      "[[ 0  1  6  7 12 13]\n",
      " [ 2  3  8  9 14 15]\n",
      " [ 4  5 10 11 16 17]]\n",
      "[[ 0  1  2  3  4  5]\n",
      " [ 6  7  8  9 10 11]\n",
      " [12 13 14 15 16 17]]\n"
     ]
    }
   ],
   "source": [
    "y = np.arange(18).reshape((3, 3, 2))\n",
    "y = np.swapaxes(y, 0, 2)\n",
    "y = np.swapaxes(y, 0, 1) # y is same format as our input videos\n",
    "z = np.arange(18).reshape((3, 6)) # z is now what we want as output if y was our input\n",
    "# Using the print method to confirm I did the unit test right\n",
    "print(raster_scan.raster_scan(y))\n",
    "print(z)"
   ]
  },
  {
   "cell_type": "code",
   "execution_count": 36,
   "metadata": {},
   "outputs": [
    {
     "data": {
      "text/plain": [
       "array([[[ 0,  1],\n",
       "        [ 2,  3],\n",
       "        [ 4,  5]],\n",
       "\n",
       "       [[ 6,  7],\n",
       "        [ 8,  9],\n",
       "        [10, 11]],\n",
       "\n",
       "       [[12, 13],\n",
       "        [14, 15],\n",
       "        [16, 17]]])"
      ]
     },
     "execution_count": 36,
     "metadata": {},
     "output_type": "execute_result"
    }
   ],
   "source": [
    "k = y = np.arange(18).reshape((3, 3, 2))\n",
    "k"
   ]
  },
  {
   "cell_type": "code",
   "execution_count": 37,
   "metadata": {},
   "outputs": [
    {
     "data": {
      "text/plain": [
       "array([[[ 0,  1],\n",
       "        [ 6,  7],\n",
       "        [12, 13]],\n",
       "\n",
       "       [[ 2,  3],\n",
       "        [ 8,  9],\n",
       "        [14, 15]],\n",
       "\n",
       "       [[ 4,  5],\n",
       "        [10, 11],\n",
       "        [16, 17]]])"
      ]
     },
     "execution_count": 37,
     "metadata": {},
     "output_type": "execute_result"
    }
   ],
   "source": [
    "y = np.swapaxes(y, 0, 1)\n",
    "y"
   ]
  },
  {
   "cell_type": "code",
   "execution_count": 38,
   "metadata": {},
   "outputs": [
    {
     "data": {
      "text/plain": [
       "array([[ 0,  1,  2,  3,  4,  5],\n",
       "       [ 6,  7,  8,  9, 10, 11],\n",
       "       [12, 13, 14, 15, 16, 17]])"
      ]
     },
     "execution_count": 38,
     "metadata": {},
     "output_type": "execute_result"
    }
   ],
   "source": [
    "z = np.arange(18).reshape((3, 6)) # z is now what we want as output if y was our input\n",
    "z"
   ]
  },
  {
   "cell_type": "code",
   "execution_count": 39,
   "metadata": {},
   "outputs": [
    {
     "data": {
      "text/plain": [
       "array([[[ 0,  6, 12],\n",
       "        [ 1,  7, 13]],\n",
       "\n",
       "       [[ 2,  8, 14],\n",
       "        [ 3,  9, 15]],\n",
       "\n",
       "       [[ 4, 10, 16],\n",
       "        [ 5, 11, 17]]])"
      ]
     },
     "execution_count": 39,
     "metadata": {},
     "output_type": "execute_result"
    }
   ],
   "source": [
    "video = np.swapaxes(y, 1, 2) # Now is (F, W, H)\n",
    "video"
   ]
  },
  {
   "cell_type": "code",
   "execution_count": 32,
   "metadata": {},
   "outputs": [
    {
     "data": {
      "text/plain": [
       "array([[[ 0,  2,  4],\n",
       "        [ 6,  8, 10],\n",
       "        [12, 14, 16]],\n",
       "\n",
       "       [[ 1,  3,  5],\n",
       "        [ 7,  9, 11],\n",
       "        [13, 15, 17]]])"
      ]
     },
     "execution_count": 32,
     "metadata": {},
     "output_type": "execute_result"
    }
   ],
   "source": []
  },
  {
   "cell_type": "code",
   "execution_count": 40,
   "metadata": {},
   "outputs": [
    {
     "name": "stdout",
     "output_type": "stream",
     "text": [
      "6 3\n"
     ]
    }
   ],
   "source": [
    "    # Reshape.\n",
    "    n_pixels = video.shape[1] * video.shape[2]\n",
    "    n_frames = video.shape[0]\n",
    "    print(n_pixels, n_frames)"
   ]
  },
  {
   "cell_type": "code",
   "execution_count": 41,
   "metadata": {},
   "outputs": [
    {
     "data": {
      "text/plain": [
       "array([[ 0,  6, 12,  1,  7, 13],\n",
       "       [ 2,  8, 14,  3,  9, 15],\n",
       "       [ 4, 10, 16,  5, 11, 17]])"
      ]
     },
     "execution_count": 41,
     "metadata": {},
     "output_type": "execute_result"
    }
   ],
   "source": [
    "    matrix = video.reshape((n_frames, n_pixels))\n",
    "    matrix"
   ]
  },
  {
   "cell_type": "code",
   "execution_count": 17,
   "metadata": {},
   "outputs": [],
   "source": []
  },
  {
   "cell_type": "code",
   "execution_count": null,
   "metadata": {},
   "outputs": [],
   "source": []
  }
 ],
 "metadata": {
  "kernelspec": {
   "display_name": "Python 3",
   "language": "python",
   "name": "python3"
  },
  "language_info": {
   "codemirror_mode": {
    "name": "ipython",
    "version": 3
   },
   "file_extension": ".py",
   "mimetype": "text/x-python",
   "name": "python",
   "nbconvert_exporter": "python",
   "pygments_lexer": "ipython3",
   "version": "3.6.4"
  }
 },
 "nbformat": 4,
 "nbformat_minor": 2
}
