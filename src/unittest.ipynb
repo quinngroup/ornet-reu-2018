{
 "cells": [
  {
   "cell_type": "code",
   "execution_count": 7,
   "metadata": {},
   "outputs": [],
   "source": [
    "import unittest\n",
    "import numpy as np\n",
    "import raster_scan"
   ]
  },
  {
   "cell_type": "code",
   "execution_count": 14,
   "metadata": {},
   "outputs": [],
   "source": [
    "# y is same format as our input videos\n",
    "y = np.arange(18).reshape((3, 3, 2))\n",
    "y = np.swapaxes(y, 0, 2)\n",
    "y = np.swapaxes(y, 0, 1)\n",
    "\n",
    "# z is now what we want as output if y was our input\n",
    "z = np.arange(18).reshape((3, 6))"
   ]
  },
  {
   "cell_type": "code",
   "execution_count": 15,
   "metadata": {},
   "outputs": [],
   "source": [
    "np.testing.assert_array_equal(raster_scan.raster_scan(y), z)"
   ]
  },
  {
   "cell_type": "code",
   "execution_count": 16,
   "metadata": {},
   "outputs": [
    {
     "name": "stdout",
     "output_type": "stream",
     "text": [
      "[[ 0  1  2  3  4  5]\n",
      " [ 6  7  8  9 10 11]\n",
      " [12 13 14 15 16 17]]\n",
      "[[ 0  1  2  3  4  5]\n",
      " [ 6  7  8  9 10 11]\n",
      " [12 13 14 15 16 17]]\n"
     ]
    }
   ],
   "source": [
    "# Using the print method to confirm I did the unit test right\n",
    "print(rs.raster_scan(y))\n",
    "print(z)"
   ]
  },
  {
   "cell_type": "code",
   "execution_count": 17,
   "metadata": {},
   "outputs": [],
   "source": [
    "# Testing different dimensions\n",
    "a = np.arange(24).reshape((4, 2, 3))\n",
    "a = np.swapaxes(a, 0, 2)\n",
    "a = np.swapaxes(a, 0, 1)\n",
    "\n",
    "b = np.arange(24).reshape((4, 6))\n",
    "\n",
    "np.testing.assert_array_equal(raster_scan.raster_scan(a), b)"
   ]
  },
  {
   "cell_type": "code",
   "execution_count": 18,
   "metadata": {},
   "outputs": [],
   "source": [
    "c = np.arange(8).reshape((2, 2, 2))\n",
    "c = np.swapaxes(c, 0, 2)\n",
    "c = np.swapaxes(c, 0, 1)\n",
    "\n",
    "d = np.arange(8).reshape((2, 4))\n",
    "\n",
    "np.testing.assert_array_equal(raster_scan.raster_scan(c), d)"
   ]
  },
  {
   "cell_type": "code",
   "execution_count": 19,
   "metadata": {},
   "outputs": [],
   "source": [
    "# Testing our theoretical 100 frame, 120x120 video\n",
    "e = np.arange(1440000).reshape((100, 120, 120))\n",
    "e = np.swapaxes(e, 0, 2)\n",
    "e = np.swapaxes(e, 0, 1)\n",
    "\n",
    "f = np.arange(1440000).reshape((100, 14400))\n",
    "\n",
    "np.testing.assert_array_equal(raster_scan.raster_scan(e), f)"
   ]
  },
  {
   "cell_type": "code",
   "execution_count": null,
   "metadata": {},
   "outputs": [],
   "source": []
  }
 ],
 "metadata": {
  "kernelspec": {
   "display_name": "Python 3",
   "language": "python",
   "name": "python3"
  },
  "language_info": {
   "codemirror_mode": {
    "name": "ipython",
    "version": 3
   },
   "file_extension": ".py",
   "mimetype": "text/x-python",
   "name": "python",
   "nbconvert_exporter": "python",
   "pygments_lexer": "ipython3",
   "version": "3.6.4"
  }
 },
 "nbformat": 4,
 "nbformat_minor": 2
}
