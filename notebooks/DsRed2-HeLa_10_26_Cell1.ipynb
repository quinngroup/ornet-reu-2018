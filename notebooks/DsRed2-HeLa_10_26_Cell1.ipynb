{
 "cells": [
  {
   "cell_type": "code",
   "execution_count": 1,
   "metadata": {},
   "outputs": [],
   "source": [
    "import numpy as np\n",
    "import read_video, raster_scan2\n",
    "import pandas as pd\n",
    "import SpatialDE\n",
    "import NaiveDE"
   ]
  },
  {
   "cell_type": "code",
   "execution_count": 2,
   "metadata": {},
   "outputs": [
    {
     "name": "stderr",
     "output_type": "stream",
     "text": [
      "/anaconda3/lib/python3.6/site-packages/skimage/util/dtype.py:122: UserWarning: Possible precision loss when converting from float64 to uint8\n",
      "  .format(dtypeobj_in, dtypeobj_out))\n"
     ]
    }
   ],
   "source": [
    "# Convert video into grayscale 3D array\n",
    "array_3d = read_video.read_video(\"/Users/BrittanyDorsey/Desktop/my-notebook/OrNet-Data/DsRed2-HeLa_10_26_Cell1.mov\")\n",
    "\n",
    "# Convert 3D array into 2D array (F, H * W)\n",
    "array_2d = raster_scan2.raster_scan(array_3d[1])\n",
    "\n",
    "# Save as csv file\n",
    "np.savetxt(array_3d[0] + str('.csv'), array_2d, delimiter=',')\n",
    "\n",
    "# This csv file is now ready for SpatialDE"
   ]
  },
  {
   "cell_type": "code",
   "execution_count": 3,
   "metadata": {},
   "outputs": [
    {
     "data": {
      "text/plain": [
       "(134, 262144)"
      ]
     },
     "execution_count": 3,
     "metadata": {},
     "output_type": "execute_result"
    }
   ],
   "source": [
    "array_2d.shape"
   ]
  },
  {
   "cell_type": "code",
   "execution_count": 4,
   "metadata": {},
   "outputs": [
    {
     "data": {
      "text/plain": [
       "(133, 262144)"
      ]
     },
     "execution_count": 4,
     "metadata": {},
     "output_type": "execute_result"
    }
   ],
   "source": [
    "df = pd.read_csv(\"/Users/BrittanyDorsey/Desktop/my-notebook/MyRepo/ornet-reu-2018/src/DsRed2-HeLa_10_26_Cell1.csv\")\n",
    "df.shape"
   ]
  },
  {
   "cell_type": "code",
   "execution_count": 5,
   "metadata": {},
   "outputs": [
    {
     "data": {
      "text/plain": [
       "(133, 2)"
      ]
     },
     "execution_count": 5,
     "metadata": {},
     "output_type": "execute_result"
    }
   ],
   "source": [
    "sample_info = pd.read_csv(\"/Users/BrittanyDorsey/Desktop/my-notebook/MyRepo/ornet-reu-2018/sample_info/sample_info_DsRed2-HeLa_10_26_Cell1.csv\")\n",
    "sample_info.shape"
   ]
  },
  {
   "cell_type": "code",
   "execution_count": 6,
   "metadata": {},
   "outputs": [
    {
     "data": {
      "text/plain": [
       "(133, 1)"
      ]
     },
     "execution_count": 6,
     "metadata": {},
     "output_type": "execute_result"
    }
   ],
   "source": [
    "X = sample_info[['frame_num']]\n",
    "X.shape"
   ]
  },
  {
   "cell_type": "code",
   "execution_count": 7,
   "metadata": {},
   "outputs": [
    {
     "data": {
      "text/plain": [
       "(133, 262144)"
      ]
     },
     "execution_count": 7,
     "metadata": {},
     "output_type": "execute_result"
    }
   ],
   "source": [
    "dfm = NaiveDE.stabilize(df)\n",
    "dfm.shape"
   ]
  },
  {
   "cell_type": "code",
   "execution_count": 8,
   "metadata": {},
   "outputs": [
    {
     "name": "stderr",
     "output_type": "stream",
     "text": [
      "INFO:root:Performing DE test\n",
      "INFO:root:Pre-calculating USU^T = K's ...\n",
      "INFO:root:Done: 3.3s\n",
      "INFO:root:Fitting gene models\n",
      "INFO:root:Model 1 of 10\n",
      "INFO:root:Model 2 of 10                                 \n",
      "INFO:root:Model 3 of 10                                 \n",
      "INFO:root:Model 4 of 10                                 \n",
      "INFO:root:Model 5 of 10                                 \n",
      "INFO:root:Model 6 of 10                                 \n",
      "INFO:root:Model 7 of 10                                 \n",
      "INFO:root:Model 8 of 10                                 \n",
      "INFO:root:Model 9 of 10                                 \n",
      "INFO:root:Model 10 of 10                                \n",
      "                                                        \r"
     ]
    },
    {
     "data": {
      "text/html": [
       "<div>\n",
       "<style scoped>\n",
       "    .dataframe tbody tr th:only-of-type {\n",
       "        vertical-align: middle;\n",
       "    }\n",
       "\n",
       "    .dataframe tbody tr th {\n",
       "        vertical-align: top;\n",
       "    }\n",
       "\n",
       "    .dataframe thead th {\n",
       "        text-align: right;\n",
       "    }\n",
       "</style>\n",
       "<table border=\"1\" class=\"dataframe\">\n",
       "  <thead>\n",
       "    <tr style=\"text-align: right;\">\n",
       "      <th></th>\n",
       "      <th>FSV</th>\n",
       "      <th>M</th>\n",
       "      <th>g</th>\n",
       "      <th>l</th>\n",
       "      <th>max_delta</th>\n",
       "      <th>max_ll</th>\n",
       "      <th>max_mu_hat</th>\n",
       "      <th>max_s2_t_hat</th>\n",
       "      <th>model</th>\n",
       "      <th>n</th>\n",
       "      <th>s2_FSV</th>\n",
       "      <th>s2_logdelta</th>\n",
       "      <th>time</th>\n",
       "      <th>BIC</th>\n",
       "      <th>max_ll_null</th>\n",
       "      <th>LLR</th>\n",
       "      <th>pval</th>\n",
       "      <th>qval</th>\n",
       "    </tr>\n",
       "  </thead>\n",
       "  <tbody>\n",
       "    <tr>\n",
       "      <th>0</th>\n",
       "      <td>2.056949e-09</td>\n",
       "      <td>4</td>\n",
       "      <td>0.000000000000000000e+00.139410</td>\n",
       "      <td>0.5</td>\n",
       "      <td>4.851652e+08</td>\n",
       "      <td>-47.207754</td>\n",
       "      <td>-3.946026</td>\n",
       "      <td>3.233991e-08</td>\n",
       "      <td>SE</td>\n",
       "      <td>133</td>\n",
       "      <td>61.561951</td>\n",
       "      <td>1.053516e+19</td>\n",
       "      <td>0.002411</td>\n",
       "      <td>113.976905</td>\n",
       "      <td>-47.209643</td>\n",
       "      <td>0.001889</td>\n",
       "      <td>0.965331</td>\n",
       "      <td>0.074318</td>\n",
       "    </tr>\n",
       "    <tr>\n",
       "      <th>1</th>\n",
       "      <td>2.056949e-09</td>\n",
       "      <td>4</td>\n",
       "      <td>0.000000000000000000e+00.139411</td>\n",
       "      <td>0.5</td>\n",
       "      <td>4.851652e+08</td>\n",
       "      <td>-47.207754</td>\n",
       "      <td>-3.946026</td>\n",
       "      <td>3.233991e-08</td>\n",
       "      <td>SE</td>\n",
       "      <td>133</td>\n",
       "      <td>61.561951</td>\n",
       "      <td>1.053516e+19</td>\n",
       "      <td>0.002337</td>\n",
       "      <td>113.976905</td>\n",
       "      <td>-47.209643</td>\n",
       "      <td>0.001889</td>\n",
       "      <td>0.965331</td>\n",
       "      <td>0.074318</td>\n",
       "    </tr>\n",
       "    <tr>\n",
       "      <th>2</th>\n",
       "      <td>2.056949e-09</td>\n",
       "      <td>4</td>\n",
       "      <td>0.000000000000000000e+00.139412</td>\n",
       "      <td>0.5</td>\n",
       "      <td>4.851652e+08</td>\n",
       "      <td>-47.207754</td>\n",
       "      <td>-3.946026</td>\n",
       "      <td>3.233991e-08</td>\n",
       "      <td>SE</td>\n",
       "      <td>133</td>\n",
       "      <td>61.561951</td>\n",
       "      <td>1.053516e+19</td>\n",
       "      <td>0.002350</td>\n",
       "      <td>113.976905</td>\n",
       "      <td>-47.209643</td>\n",
       "      <td>0.001889</td>\n",
       "      <td>0.965331</td>\n",
       "      <td>0.074318</td>\n",
       "    </tr>\n",
       "    <tr>\n",
       "      <th>3</th>\n",
       "      <td>2.056949e-09</td>\n",
       "      <td>4</td>\n",
       "      <td>0.000000000000000000e+00.139413</td>\n",
       "      <td>0.5</td>\n",
       "      <td>4.851652e+08</td>\n",
       "      <td>-47.207754</td>\n",
       "      <td>-3.946026</td>\n",
       "      <td>3.233991e-08</td>\n",
       "      <td>SE</td>\n",
       "      <td>133</td>\n",
       "      <td>61.561951</td>\n",
       "      <td>1.053516e+19</td>\n",
       "      <td>0.002652</td>\n",
       "      <td>113.976905</td>\n",
       "      <td>-47.209643</td>\n",
       "      <td>0.001889</td>\n",
       "      <td>0.965331</td>\n",
       "      <td>0.074318</td>\n",
       "    </tr>\n",
       "    <tr>\n",
       "      <th>4</th>\n",
       "      <td>2.056949e-09</td>\n",
       "      <td>4</td>\n",
       "      <td>0.000000000000000000e+00.139426</td>\n",
       "      <td>0.5</td>\n",
       "      <td>4.851652e+08</td>\n",
       "      <td>-269.212204</td>\n",
       "      <td>-2.819307</td>\n",
       "      <td>2.329806e-08</td>\n",
       "      <td>SE</td>\n",
       "      <td>133</td>\n",
       "      <td>509.505819</td>\n",
       "      <td>8.719224e+19</td>\n",
       "      <td>0.001138</td>\n",
       "      <td>557.985805</td>\n",
       "      <td>-269.214094</td>\n",
       "      <td>0.001889</td>\n",
       "      <td>0.965331</td>\n",
       "      <td>0.074318</td>\n",
       "    </tr>\n",
       "  </tbody>\n",
       "</table>\n",
       "</div>"
      ],
      "text/plain": [
       "            FSV  M                                g    l     max_delta  \\\n",
       "0  2.056949e-09  4  0.000000000000000000e+00.139410  0.5  4.851652e+08   \n",
       "1  2.056949e-09  4  0.000000000000000000e+00.139411  0.5  4.851652e+08   \n",
       "2  2.056949e-09  4  0.000000000000000000e+00.139412  0.5  4.851652e+08   \n",
       "3  2.056949e-09  4  0.000000000000000000e+00.139413  0.5  4.851652e+08   \n",
       "4  2.056949e-09  4  0.000000000000000000e+00.139426  0.5  4.851652e+08   \n",
       "\n",
       "       max_ll  max_mu_hat  max_s2_t_hat model    n      s2_FSV   s2_logdelta  \\\n",
       "0  -47.207754   -3.946026  3.233991e-08    SE  133   61.561951  1.053516e+19   \n",
       "1  -47.207754   -3.946026  3.233991e-08    SE  133   61.561951  1.053516e+19   \n",
       "2  -47.207754   -3.946026  3.233991e-08    SE  133   61.561951  1.053516e+19   \n",
       "3  -47.207754   -3.946026  3.233991e-08    SE  133   61.561951  1.053516e+19   \n",
       "4 -269.212204   -2.819307  2.329806e-08    SE  133  509.505819  8.719224e+19   \n",
       "\n",
       "       time         BIC  max_ll_null       LLR      pval      qval  \n",
       "0  0.002411  113.976905   -47.209643  0.001889  0.965331  0.074318  \n",
       "1  0.002337  113.976905   -47.209643  0.001889  0.965331  0.074318  \n",
       "2  0.002350  113.976905   -47.209643  0.001889  0.965331  0.074318  \n",
       "3  0.002652  113.976905   -47.209643  0.001889  0.965331  0.074318  \n",
       "4  0.001138  557.985805  -269.214094  0.001889  0.965331  0.074318  "
      ]
     },
     "execution_count": 8,
     "metadata": {},
     "output_type": "execute_result"
    }
   ],
   "source": [
    "results = SpatialDE.run(X, dfm)\n",
    "results.to_csv('results_DsRed2-HeLa_10_26_Cell1.csv')\n",
    "results.head()"
   ]
  },
  {
   "cell_type": "code",
   "execution_count": 9,
   "metadata": {},
   "outputs": [
    {
     "name": "stderr",
     "output_type": "stream",
     "text": [
      "INFO:root:Performing model search\n",
      "INFO:root:Pre-calculating USU^T = K's ...\n",
      "INFO:root:Done: 0.52s\n",
      "INFO:root:Fitting gene models\n",
      "INFO:root:Model 1 of 11\n",
      "INFO:root:Model 2 of 11                                 \n",
      "INFO:root:Model 3 of 11                                 \n",
      "INFO:root:Model 4 of 11                                 \n",
      "INFO:root:Model 5 of 11                                 \n",
      "INFO:root:Model 6 of 11                                 \n",
      "INFO:root:Model 7 of 11                                 \n",
      "  5%|▌         | 13592/262144 [00:38<11:41, 354.18it/s]/anaconda3/lib/python3.6/site-packages/SpatialDE/base.py:175: RuntimeWarning: divide by zero encountered in double_scalars\n",
      "  s2_logdelta = 1. / (derivative(LL_obj, np.log(max_delta), n=2) ** 2)\n",
      "INFO:root:Model 8 of 11                                 \n",
      "INFO:root:Model 9 of 11                                    \n",
      "INFO:root:Model 10 of 11                               \n",
      "INFO:root:Model 11 of 11                                \n",
      "                                                        \r"
     ]
    },
    {
     "data": {
      "text/html": [
       "<div>\n",
       "<style scoped>\n",
       "    .dataframe tbody tr th:only-of-type {\n",
       "        vertical-align: middle;\n",
       "    }\n",
       "\n",
       "    .dataframe tbody tr th {\n",
       "        vertical-align: top;\n",
       "    }\n",
       "\n",
       "    .dataframe thead th {\n",
       "        text-align: right;\n",
       "    }\n",
       "</style>\n",
       "<table border=\"1\" class=\"dataframe\">\n",
       "  <thead>\n",
       "    <tr style=\"text-align: right;\">\n",
       "      <th></th>\n",
       "      <th>BIC</th>\n",
       "      <th>FSV</th>\n",
       "      <th>LLR</th>\n",
       "      <th>M</th>\n",
       "      <th>g</th>\n",
       "      <th>l</th>\n",
       "      <th>max_delta</th>\n",
       "      <th>max_ll</th>\n",
       "      <th>max_mu_hat</th>\n",
       "      <th>max_s2_t_hat</th>\n",
       "      <th>...</th>\n",
       "      <th>n</th>\n",
       "      <th>s2_FSV</th>\n",
       "      <th>s2_logdelta</th>\n",
       "      <th>time</th>\n",
       "      <th>PER_prob</th>\n",
       "      <th>SE_prob</th>\n",
       "      <th>linear_prob</th>\n",
       "      <th>pval</th>\n",
       "      <th>qval</th>\n",
       "      <th>max_ll_null</th>\n",
       "    </tr>\n",
       "  </thead>\n",
       "  <tbody>\n",
       "    <tr>\n",
       "      <th>0</th>\n",
       "      <td>109.086556</td>\n",
       "      <td>1.730543e-10</td>\n",
       "      <td>NaN</td>\n",
       "      <td>3</td>\n",
       "      <td>0.000000000000000000e+00.139410</td>\n",
       "      <td>NaN</td>\n",
       "      <td>4.851652e+08</td>\n",
       "      <td>-47.207754</td>\n",
       "      <td>-3.946026</td>\n",
       "      <td>3.233991e-08</td>\n",
       "      <td>...</td>\n",
       "      <td>133</td>\n",
       "      <td>0.000016</td>\n",
       "      <td>3.975712e+14</td>\n",
       "      <td>0.004747</td>\n",
       "      <td>0.007407</td>\n",
       "      <td>0.007407</td>\n",
       "      <td>0.985185</td>\n",
       "      <td>0.965331</td>\n",
       "      <td>0.074318</td>\n",
       "      <td>-47.209643</td>\n",
       "    </tr>\n",
       "    <tr>\n",
       "      <th>1</th>\n",
       "      <td>109.086556</td>\n",
       "      <td>1.730543e-10</td>\n",
       "      <td>NaN</td>\n",
       "      <td>3</td>\n",
       "      <td>0.000000000000000000e+00.139411</td>\n",
       "      <td>NaN</td>\n",
       "      <td>4.851652e+08</td>\n",
       "      <td>-47.207754</td>\n",
       "      <td>-3.946026</td>\n",
       "      <td>3.233991e-08</td>\n",
       "      <td>...</td>\n",
       "      <td>133</td>\n",
       "      <td>0.000016</td>\n",
       "      <td>3.975712e+14</td>\n",
       "      <td>0.002368</td>\n",
       "      <td>0.007407</td>\n",
       "      <td>0.007407</td>\n",
       "      <td>0.985185</td>\n",
       "      <td>0.965331</td>\n",
       "      <td>0.074318</td>\n",
       "      <td>-47.209643</td>\n",
       "    </tr>\n",
       "    <tr>\n",
       "      <th>2</th>\n",
       "      <td>109.086556</td>\n",
       "      <td>1.730543e-10</td>\n",
       "      <td>NaN</td>\n",
       "      <td>3</td>\n",
       "      <td>0.000000000000000000e+00.139412</td>\n",
       "      <td>NaN</td>\n",
       "      <td>4.851652e+08</td>\n",
       "      <td>-47.207754</td>\n",
       "      <td>-3.946026</td>\n",
       "      <td>3.233991e-08</td>\n",
       "      <td>...</td>\n",
       "      <td>133</td>\n",
       "      <td>0.000016</td>\n",
       "      <td>3.975712e+14</td>\n",
       "      <td>0.002580</td>\n",
       "      <td>0.007407</td>\n",
       "      <td>0.007407</td>\n",
       "      <td>0.985185</td>\n",
       "      <td>0.965331</td>\n",
       "      <td>0.074318</td>\n",
       "      <td>-47.209643</td>\n",
       "    </tr>\n",
       "    <tr>\n",
       "      <th>3</th>\n",
       "      <td>109.086556</td>\n",
       "      <td>1.730543e-10</td>\n",
       "      <td>NaN</td>\n",
       "      <td>3</td>\n",
       "      <td>0.000000000000000000e+00.139413</td>\n",
       "      <td>NaN</td>\n",
       "      <td>4.851652e+08</td>\n",
       "      <td>-47.207754</td>\n",
       "      <td>-3.946026</td>\n",
       "      <td>3.233991e-08</td>\n",
       "      <td>...</td>\n",
       "      <td>133</td>\n",
       "      <td>0.000016</td>\n",
       "      <td>3.975712e+14</td>\n",
       "      <td>0.002353</td>\n",
       "      <td>0.007407</td>\n",
       "      <td>0.007407</td>\n",
       "      <td>0.985185</td>\n",
       "      <td>0.965331</td>\n",
       "      <td>0.074318</td>\n",
       "      <td>-47.209643</td>\n",
       "    </tr>\n",
       "    <tr>\n",
       "      <th>4</th>\n",
       "      <td>553.095456</td>\n",
       "      <td>1.730543e-10</td>\n",
       "      <td>NaN</td>\n",
       "      <td>3</td>\n",
       "      <td>0.000000000000000000e+00.139426</td>\n",
       "      <td>NaN</td>\n",
       "      <td>4.851652e+08</td>\n",
       "      <td>-269.212204</td>\n",
       "      <td>-2.819307</td>\n",
       "      <td>2.329806e-08</td>\n",
       "      <td>...</td>\n",
       "      <td>133</td>\n",
       "      <td>0.000033</td>\n",
       "      <td>8.000764e+14</td>\n",
       "      <td>0.002841</td>\n",
       "      <td>0.015887</td>\n",
       "      <td>0.007344</td>\n",
       "      <td>0.976769</td>\n",
       "      <td>0.965331</td>\n",
       "      <td>0.074318</td>\n",
       "      <td>-269.214094</td>\n",
       "    </tr>\n",
       "  </tbody>\n",
       "</table>\n",
       "<p>5 rows × 21 columns</p>\n",
       "</div>"
      ],
      "text/plain": [
       "          BIC           FSV  LLR  M                                g   l  \\\n",
       "0  109.086556  1.730543e-10  NaN  3  0.000000000000000000e+00.139410 NaN   \n",
       "1  109.086556  1.730543e-10  NaN  3  0.000000000000000000e+00.139411 NaN   \n",
       "2  109.086556  1.730543e-10  NaN  3  0.000000000000000000e+00.139412 NaN   \n",
       "3  109.086556  1.730543e-10  NaN  3  0.000000000000000000e+00.139413 NaN   \n",
       "4  553.095456  1.730543e-10  NaN  3  0.000000000000000000e+00.139426 NaN   \n",
       "\n",
       "      max_delta      max_ll  max_mu_hat  max_s2_t_hat     ...         n  \\\n",
       "0  4.851652e+08  -47.207754   -3.946026  3.233991e-08     ...       133   \n",
       "1  4.851652e+08  -47.207754   -3.946026  3.233991e-08     ...       133   \n",
       "2  4.851652e+08  -47.207754   -3.946026  3.233991e-08     ...       133   \n",
       "3  4.851652e+08  -47.207754   -3.946026  3.233991e-08     ...       133   \n",
       "4  4.851652e+08 -269.212204   -2.819307  2.329806e-08     ...       133   \n",
       "\n",
       "     s2_FSV   s2_logdelta      time  PER_prob   SE_prob  linear_prob  \\\n",
       "0  0.000016  3.975712e+14  0.004747  0.007407  0.007407     0.985185   \n",
       "1  0.000016  3.975712e+14  0.002368  0.007407  0.007407     0.985185   \n",
       "2  0.000016  3.975712e+14  0.002580  0.007407  0.007407     0.985185   \n",
       "3  0.000016  3.975712e+14  0.002353  0.007407  0.007407     0.985185   \n",
       "4  0.000033  8.000764e+14  0.002841  0.015887  0.007344     0.976769   \n",
       "\n",
       "       pval      qval  max_ll_null  \n",
       "0  0.965331  0.074318   -47.209643  \n",
       "1  0.965331  0.074318   -47.209643  \n",
       "2  0.965331  0.074318   -47.209643  \n",
       "3  0.965331  0.074318   -47.209643  \n",
       "4  0.965331  0.074318  -269.214094  \n",
       "\n",
       "[5 rows x 21 columns]"
      ]
     },
     "execution_count": 9,
     "metadata": {},
     "output_type": "execute_result"
    }
   ],
   "source": [
    "ms_results = SpatialDE.model_search(X, dfm, results)\n",
    "ms_results.to_csv('MS_results_DsRed2-HeLa_10_26_Cell1.csv')\n",
    "ms_results.head()"
   ]
  },
  {
   "cell_type": "code",
   "execution_count": 10,
   "metadata": {},
   "outputs": [
    {
     "data": {
      "text/plain": [
       "(262144, 18)"
      ]
     },
     "execution_count": 10,
     "metadata": {},
     "output_type": "execute_result"
    }
   ],
   "source": [
    "results.shape"
   ]
  },
  {
   "cell_type": "code",
   "execution_count": 11,
   "metadata": {},
   "outputs": [
    {
     "data": {
      "text/plain": [
       "(262144, 21)"
      ]
     },
     "execution_count": 11,
     "metadata": {},
     "output_type": "execute_result"
    }
   ],
   "source": [
    "ms_results.shape"
   ]
  },
  {
   "cell_type": "code",
   "execution_count": null,
   "metadata": {},
   "outputs": [],
   "source": []
  }
 ],
 "metadata": {
  "kernelspec": {
   "display_name": "Python 3",
   "language": "python",
   "name": "python3"
  },
  "language_info": {
   "codemirror_mode": {
    "name": "ipython",
    "version": 3
   },
   "file_extension": ".py",
   "mimetype": "text/x-python",
   "name": "python",
   "nbconvert_exporter": "python",
   "pygments_lexer": "ipython3",
   "version": "3.6.4"
  }
 },
 "nbformat": 4,
 "nbformat_minor": 2
}
