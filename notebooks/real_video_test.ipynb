{
 "cells": [
  {
   "cell_type": "code",
   "execution_count": 6,
   "metadata": {},
   "outputs": [],
   "source": [
    "import unittest\n",
    "import numpy as np\n",
    "import sys\n",
    "sys.path.insert(0, '/Users/mojtaba/Downloads/ornet-reu-2018-master-2/src')\n",
    "import raster_scan2 as raster_scan\n",
    "import read_video"
   ]
  },
  {
   "cell_type": "code",
   "execution_count": 28,
   "metadata": {},
   "outputs": [],
   "source": [
    "class RasterTest(unittest.TestCase):\n",
    "\n",
    "    def manual_scan(self, video):\n",
    "        \"\"\"\n",
    "        Manual, loop-based implementation of raster scanning.\n",
    "        (reference implementation)\n",
    "        \"\"\"\n",
    "        frames, height, width = video.shape\n",
    "        raster = np.zeros(shape = (frames, height * width))\n",
    "\n",
    "        for index, frame in enumerate(video):\n",
    "            raster[index] = frame.flatten()\n",
    "\n",
    "        return raster\n",
    "\n",
    "    def test_rasterscan1(self):\n",
    "        y = np.arange(18).reshape((3, 3, 2))\n",
    "        yt = self.manual_scan(y)\n",
    "        yp = raster_scan.raster_scan(y)\n",
    "        np.testing.assert_array_equal(yp, yt)\n",
    "\n",
    "\n",
    "    #  Add another function (e.g., test_rasterscan_real) that uses read_video to read in a full video, \n",
    "    #  creates a ground-truth, and then uses raster_scan2 to generate a prediction.        \n",
    "    \n",
    "    def test_rasterscan_real(self):\n",
    "        y = read_video.read_video('/Users/mojtaba/Desktop/OrNet Project/DAT VIDEOS/LLO/DsRed2-HeLa_2_21_LLO_Cell0.mov')\n",
    "        y = np.array(y[1:])\n",
    "        # Because of the output format of \"read_video\" module, we need to slice the \"y\"\n",
    "        y = y[0,:,:,:]\n",
    "        yt = self.manual_scan(y)\n",
    "        yp = raster_scan.raster_scan(y)\n",
    "        np.testing.assert_array_equal(yp, yt)"
   ]
  },
  {
   "cell_type": "code",
   "execution_count": 29,
   "metadata": {
    "scrolled": true
   },
   "outputs": [
    {
     "name": "stderr",
     "output_type": "stream",
     "text": [
      "./Users/mojtaba/anaconda3/lib/python3.6/site-packages/skimage/util/dtype.py:122: UserWarning: Possible precision loss when converting from float64 to uint8\n",
      "  .format(dtypeobj_in, dtypeobj_out))\n",
      "/Users/mojtaba/anaconda3/lib/python3.6/site-packages/imageio/plugins/ffmpeg.py:338: ResourceWarning: unclosed file <_io.BufferedWriter name=61>\n",
      "  self._proc = None\n",
      "/Users/mojtaba/anaconda3/lib/python3.6/site-packages/imageio/plugins/ffmpeg.py:338: ResourceWarning: unclosed file <_io.BufferedReader name=62>\n",
      "  self._proc = None\n",
      "/Users/mojtaba/anaconda3/lib/python3.6/site-packages/ipykernel_launcher.py:27: ResourceWarning: unclosed file <_io.BufferedReader name=64>\n",
      ".\n",
      "----------------------------------------------------------------------\n",
      "Ran 2 tests in 16.702s\n",
      "\n",
      "OK\n"
     ]
    }
   ],
   "source": [
    "if __name__ == '__main__':\n",
    "    unittest.main(argv=['first-arg-is-ignored'], exit=False)"
   ]
  },
  {
   "cell_type": "markdown",
   "metadata": {},
   "source": [
    "# Here I'm going to test the details of the function that we are going to write for real video testing. "
   ]
  },
  {
   "cell_type": "code",
   "execution_count": 20,
   "metadata": {},
   "outputs": [
    {
     "name": "stderr",
     "output_type": "stream",
     "text": [
      "/Users/mojtaba/anaconda3/lib/python3.6/site-packages/skimage/util/dtype.py:122: UserWarning: Possible precision loss when converting from float64 to uint8\n",
      "  .format(dtypeobj_in, dtypeobj_out))\n"
     ]
    },
    {
     "data": {
      "text/plain": [
       "(1, 133, 512, 512)"
      ]
     },
     "execution_count": 20,
     "metadata": {},
     "output_type": "execute_result"
    }
   ],
   "source": [
    "y = read_video.read_video('/Users/mojtaba/Desktop/OrNet Project/DAT VIDEOS/LLO/DsRed2-HeLa_2_21_LLO_Cell0.mov')\n",
    "y2 = np.array(y[1:])\n",
    "y2.shape\n"
   ]
  },
  {
   "cell_type": "code",
   "execution_count": 22,
   "metadata": {},
   "outputs": [
    {
     "data": {
      "text/plain": [
       "(133, 512, 512)"
      ]
     },
     "execution_count": 22,
     "metadata": {},
     "output_type": "execute_result"
    }
   ],
   "source": [
    "y3 = y2[0,:,:,:]\n",
    "y3.shape"
   ]
  },
  {
   "cell_type": "code",
   "execution_count": 16,
   "metadata": {},
   "outputs": [],
   "source": [
    "def manual_scan(self, video):\n",
    "        \"\"\"\n",
    "        Manual, loop-based implementation of raster scanning.\n",
    "        (reference implementation)\n",
    "        \"\"\"\n",
    "        frames, height, width = video.shape\n",
    "        raster = np.zeros(shape = (frames, height * width))\n",
    "\n",
    "        for index, frame in enumerate(video):\n",
    "            raster[index] = frame.flatten()\n",
    "\n",
    "        return raster"
   ]
  },
  {
   "cell_type": "code",
   "execution_count": 26,
   "metadata": {},
   "outputs": [
    {
     "data": {
      "text/plain": [
       "(133, 262144)"
      ]
     },
     "execution_count": 26,
     "metadata": {},
     "output_type": "execute_result"
    }
   ],
   "source": [
    "yt = manual_scan(_, y3)\n",
    "yt.shape"
   ]
  },
  {
   "cell_type": "code",
   "execution_count": 27,
   "metadata": {},
   "outputs": [
    {
     "data": {
      "text/plain": [
       "(133, 262144)"
      ]
     },
     "execution_count": 27,
     "metadata": {},
     "output_type": "execute_result"
    }
   ],
   "source": [
    "yp = raster_scan.raster_scan(y3)\n",
    "yp.shape"
   ]
  }
 ],
 "metadata": {
  "kernelspec": {
   "display_name": "Python 3",
   "language": "python",
   "name": "python3"
  },
  "language_info": {
   "codemirror_mode": {
    "name": "ipython",
    "version": 3
   },
   "file_extension": ".py",
   "mimetype": "text/x-python",
   "name": "python",
   "nbconvert_exporter": "python",
   "pygments_lexer": "ipython3",
   "version": "3.6.3"
  }
 },
 "nbformat": 4,
 "nbformat_minor": 2
}
