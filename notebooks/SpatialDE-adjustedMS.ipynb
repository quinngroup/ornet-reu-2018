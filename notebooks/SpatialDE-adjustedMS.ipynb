{
 "cells": [
  {
   "cell_type": "code",
   "execution_count": null,
   "metadata": {},
   "outputs": [],
   "source": [
    "# Full process of SpatialDE, from video to results file, model search done without the pre-processing"
   ]
  },
  {
   "cell_type": "code",
   "execution_count": 2,
   "metadata": {},
   "outputs": [],
   "source": [
    "import numpy as np\n",
    "import read_video, raster_scan2\n",
    "import pandas as pd\n",
    "import SpatialDE\n",
    "import NaiveDE"
   ]
  },
  {
   "cell_type": "code",
   "execution_count": 3,
   "metadata": {},
   "outputs": [
    {
     "name": "stderr",
     "output_type": "stream",
     "text": [
      "/anaconda3/lib/python3.6/site-packages/skimage/util/dtype.py:122: UserWarning: Possible precision loss when converting from float64 to uint8\n",
      "  .format(dtypeobj_in, dtypeobj_out))\n"
     ]
    }
   ],
   "source": [
    "# Convert video into grayscale 3D array\n",
    "array_3d = read_video.read_video(\"/Users/BrittanyDorsey/Desktop/my-notebook/OrNet-Data/DsRed2-HeLa_4_5_LLO1_Cell0.mov\")\n",
    "\n",
    "# Convert 3D array into 2D array (F, H * W)\n",
    "array_2d = raster_scan2.raster_scan(array_3d[1])\n",
    "\n",
    "# Save as csv file\n",
    "np.savetxt(array_3d[0] + str('.csv'), array_2d, delimiter=',')\n",
    "\n",
    "# This csv file is now ready for SpatialDE"
   ]
  },
  {
   "cell_type": "code",
   "execution_count": 4,
   "metadata": {},
   "outputs": [
    {
     "data": {
      "text/plain": [
       "(121, 512, 512)"
      ]
     },
     "execution_count": 4,
     "metadata": {},
     "output_type": "execute_result"
    }
   ],
   "source": [
    "array_3d[1].shape"
   ]
  },
  {
   "cell_type": "code",
   "execution_count": 5,
   "metadata": {},
   "outputs": [
    {
     "data": {
      "text/plain": [
       "(121, 262144)"
      ]
     },
     "execution_count": 5,
     "metadata": {},
     "output_type": "execute_result"
    }
   ],
   "source": [
    "array_2d.shape"
   ]
  },
  {
   "cell_type": "code",
   "execution_count": 6,
   "metadata": {},
   "outputs": [],
   "source": [
    "df = pd.read_csv(\"/Users/BrittanyDorsey/Desktop/my-notebook/MyRepo/src/DsRed2-HeLa_4_5_LLO1_Cell0.csv\")"
   ]
  },
  {
   "cell_type": "code",
   "execution_count": 7,
   "metadata": {},
   "outputs": [
    {
     "data": {
      "text/plain": [
       "(120, 262144)"
      ]
     },
     "execution_count": 7,
     "metadata": {},
     "output_type": "execute_result"
    }
   ],
   "source": [
    "df.shape"
   ]
  },
  {
   "cell_type": "code",
   "execution_count": 12,
   "metadata": {},
   "outputs": [
    {
     "data": {
      "text/html": [
       "<div>\n",
       "<style scoped>\n",
       "    .dataframe tbody tr th:only-of-type {\n",
       "        vertical-align: middle;\n",
       "    }\n",
       "\n",
       "    .dataframe tbody tr th {\n",
       "        vertical-align: top;\n",
       "    }\n",
       "\n",
       "    .dataframe thead th {\n",
       "        text-align: right;\n",
       "    }\n",
       "</style>\n",
       "<table border=\"1\" class=\"dataframe\">\n",
       "  <thead>\n",
       "    <tr style=\"text-align: right;\">\n",
       "      <th></th>\n",
       "      <th>frame_num</th>\n",
       "      <th>num_pixels</th>\n",
       "    </tr>\n",
       "  </thead>\n",
       "  <tbody>\n",
       "    <tr>\n",
       "      <th>0</th>\n",
       "      <td>1</td>\n",
       "      <td>262144</td>\n",
       "    </tr>\n",
       "    <tr>\n",
       "      <th>1</th>\n",
       "      <td>2</td>\n",
       "      <td>262144</td>\n",
       "    </tr>\n",
       "    <tr>\n",
       "      <th>2</th>\n",
       "      <td>3</td>\n",
       "      <td>262144</td>\n",
       "    </tr>\n",
       "    <tr>\n",
       "      <th>3</th>\n",
       "      <td>4</td>\n",
       "      <td>262144</td>\n",
       "    </tr>\n",
       "    <tr>\n",
       "      <th>4</th>\n",
       "      <td>5</td>\n",
       "      <td>262144</td>\n",
       "    </tr>\n",
       "  </tbody>\n",
       "</table>\n",
       "</div>"
      ],
      "text/plain": [
       "   frame_num  num_pixels\n",
       "0          1      262144\n",
       "1          2      262144\n",
       "2          3      262144\n",
       "3          4      262144\n",
       "4          5      262144"
      ]
     },
     "execution_count": 12,
     "metadata": {},
     "output_type": "execute_result"
    }
   ],
   "source": [
    "sample_info = pd.read_csv(\"/Users/BrittanyDorsey/Desktop/my-notebook/MyRepo/data/sample_info_DsRed2-HeLa_4_5_LLO1_Cell0.csv\")\n",
    "sample_info.head()"
   ]
  },
  {
   "cell_type": "code",
   "execution_count": 13,
   "metadata": {},
   "outputs": [
    {
     "data": {
      "text/plain": [
       "(120, 2)"
      ]
     },
     "execution_count": 13,
     "metadata": {},
     "output_type": "execute_result"
    }
   ],
   "source": [
    "sample_info.shape"
   ]
  },
  {
   "cell_type": "code",
   "execution_count": 14,
   "metadata": {},
   "outputs": [
    {
     "data": {
      "text/plain": [
       "(120, 1)"
      ]
     },
     "execution_count": 14,
     "metadata": {},
     "output_type": "execute_result"
    }
   ],
   "source": [
    "X = sample_info[['frame_num']]\n",
    "X.shape"
   ]
  },
  {
   "cell_type": "code",
   "execution_count": 15,
   "metadata": {},
   "outputs": [
    {
     "data": {
      "text/plain": [
       "(120, 262144)"
      ]
     },
     "execution_count": 15,
     "metadata": {},
     "output_type": "execute_result"
    }
   ],
   "source": [
    "dfm = NaiveDE.stabilize(df)\n",
    "dfm.shape"
   ]
  },
  {
   "cell_type": "code",
   "execution_count": 16,
   "metadata": {},
   "outputs": [
    {
     "name": "stderr",
     "output_type": "stream",
     "text": [
      "INFO:root:Performing DE test\n",
      "INFO:root:Pre-calculating USU^T = K's ...\n",
      "INFO:root:Done: 1.3s\n",
      "INFO:root:Fitting gene models\n",
      "INFO:root:Model 1 of 10\n",
      "INFO:root:Model 2 of 10                                 \n",
      "INFO:root:Model 3 of 10                                 \n",
      "INFO:root:Model 4 of 10                                  \n",
      "INFO:root:Model 5 of 10                                 \n",
      "INFO:root:Model 6 of 10                                 \n",
      "INFO:root:Model 7 of 10                                 \n",
      "INFO:root:Model 8 of 10                                 \n",
      "INFO:root:Model 9 of 10                                 \n",
      "INFO:root:Model 10 of 10                                \n",
      "                                                        \r"
     ]
    },
    {
     "data": {
      "text/html": [
       "<div>\n",
       "<style scoped>\n",
       "    .dataframe tbody tr th:only-of-type {\n",
       "        vertical-align: middle;\n",
       "    }\n",
       "\n",
       "    .dataframe tbody tr th {\n",
       "        vertical-align: top;\n",
       "    }\n",
       "\n",
       "    .dataframe thead th {\n",
       "        text-align: right;\n",
       "    }\n",
       "</style>\n",
       "<table border=\"1\" class=\"dataframe\">\n",
       "  <thead>\n",
       "    <tr style=\"text-align: right;\">\n",
       "      <th></th>\n",
       "      <th>FSV</th>\n",
       "      <th>M</th>\n",
       "      <th>g</th>\n",
       "      <th>l</th>\n",
       "      <th>max_delta</th>\n",
       "      <th>max_ll</th>\n",
       "      <th>max_mu_hat</th>\n",
       "      <th>max_s2_t_hat</th>\n",
       "      <th>model</th>\n",
       "      <th>n</th>\n",
       "      <th>s2_FSV</th>\n",
       "      <th>s2_logdelta</th>\n",
       "      <th>time</th>\n",
       "      <th>BIC</th>\n",
       "      <th>max_ll_null</th>\n",
       "      <th>LLR</th>\n",
       "      <th>pval</th>\n",
       "      <th>qval</th>\n",
       "    </tr>\n",
       "  </thead>\n",
       "  <tbody>\n",
       "    <tr>\n",
       "      <th>0</th>\n",
       "      <td>2.056493e-09</td>\n",
       "      <td>4</td>\n",
       "      <td>0.000000000000000000e+00.102536</td>\n",
       "      <td>0.5</td>\n",
       "      <td>4.851652e+08</td>\n",
       "      <td>-54.817657</td>\n",
       "      <td>-4.15294</td>\n",
       "      <td>3.584943e-08</td>\n",
       "      <td>SE</td>\n",
       "      <td>120</td>\n",
       "      <td>61.263111</td>\n",
       "      <td>1.048866e+19</td>\n",
       "      <td>0.099319</td>\n",
       "      <td>128.785281</td>\n",
       "      <td>-54.819752</td>\n",
       "      <td>0.002095</td>\n",
       "      <td>0.963493</td>\n",
       "      <td>0.039628</td>\n",
       "    </tr>\n",
       "    <tr>\n",
       "      <th>1</th>\n",
       "      <td>2.056493e-09</td>\n",
       "      <td>4</td>\n",
       "      <td>0.000000000000000000e+00.102537</td>\n",
       "      <td>0.5</td>\n",
       "      <td>4.851652e+08</td>\n",
       "      <td>-54.817657</td>\n",
       "      <td>-4.15294</td>\n",
       "      <td>3.584943e-08</td>\n",
       "      <td>SE</td>\n",
       "      <td>120</td>\n",
       "      <td>61.263111</td>\n",
       "      <td>1.048866e+19</td>\n",
       "      <td>0.001692</td>\n",
       "      <td>128.785281</td>\n",
       "      <td>-54.819752</td>\n",
       "      <td>0.002095</td>\n",
       "      <td>0.963493</td>\n",
       "      <td>0.039628</td>\n",
       "    </tr>\n",
       "    <tr>\n",
       "      <th>2</th>\n",
       "      <td>2.056493e-09</td>\n",
       "      <td>4</td>\n",
       "      <td>0.000000000000000000e+00.102538</td>\n",
       "      <td>0.5</td>\n",
       "      <td>4.851652e+08</td>\n",
       "      <td>-54.817657</td>\n",
       "      <td>-4.15294</td>\n",
       "      <td>3.584943e-08</td>\n",
       "      <td>SE</td>\n",
       "      <td>120</td>\n",
       "      <td>61.263111</td>\n",
       "      <td>1.048866e+19</td>\n",
       "      <td>0.001639</td>\n",
       "      <td>128.785281</td>\n",
       "      <td>-54.819752</td>\n",
       "      <td>0.002095</td>\n",
       "      <td>0.963493</td>\n",
       "      <td>0.039628</td>\n",
       "    </tr>\n",
       "    <tr>\n",
       "      <th>3</th>\n",
       "      <td>2.056493e-09</td>\n",
       "      <td>4</td>\n",
       "      <td>0.000000000000000000e+00.102539</td>\n",
       "      <td>0.5</td>\n",
       "      <td>4.851652e+08</td>\n",
       "      <td>-54.817657</td>\n",
       "      <td>-4.15294</td>\n",
       "      <td>3.584943e-08</td>\n",
       "      <td>SE</td>\n",
       "      <td>120</td>\n",
       "      <td>61.263111</td>\n",
       "      <td>1.048866e+19</td>\n",
       "      <td>0.001645</td>\n",
       "      <td>128.785281</td>\n",
       "      <td>-54.819752</td>\n",
       "      <td>0.002095</td>\n",
       "      <td>0.963493</td>\n",
       "      <td>0.039628</td>\n",
       "    </tr>\n",
       "    <tr>\n",
       "      <th>4</th>\n",
       "      <td>2.056493e-09</td>\n",
       "      <td>4</td>\n",
       "      <td>0.000000000000000000e+00.102540</td>\n",
       "      <td>0.5</td>\n",
       "      <td>4.851652e+08</td>\n",
       "      <td>-54.817657</td>\n",
       "      <td>-4.15294</td>\n",
       "      <td>3.584943e-08</td>\n",
       "      <td>SE</td>\n",
       "      <td>120</td>\n",
       "      <td>61.263111</td>\n",
       "      <td>1.048866e+19</td>\n",
       "      <td>0.001637</td>\n",
       "      <td>128.785281</td>\n",
       "      <td>-54.819752</td>\n",
       "      <td>0.002095</td>\n",
       "      <td>0.963493</td>\n",
       "      <td>0.039628</td>\n",
       "    </tr>\n",
       "  </tbody>\n",
       "</table>\n",
       "</div>"
      ],
      "text/plain": [
       "            FSV  M                                g    l     max_delta  \\\n",
       "0  2.056493e-09  4  0.000000000000000000e+00.102536  0.5  4.851652e+08   \n",
       "1  2.056493e-09  4  0.000000000000000000e+00.102537  0.5  4.851652e+08   \n",
       "2  2.056493e-09  4  0.000000000000000000e+00.102538  0.5  4.851652e+08   \n",
       "3  2.056493e-09  4  0.000000000000000000e+00.102539  0.5  4.851652e+08   \n",
       "4  2.056493e-09  4  0.000000000000000000e+00.102540  0.5  4.851652e+08   \n",
       "\n",
       "      max_ll  max_mu_hat  max_s2_t_hat model    n     s2_FSV   s2_logdelta  \\\n",
       "0 -54.817657    -4.15294  3.584943e-08    SE  120  61.263111  1.048866e+19   \n",
       "1 -54.817657    -4.15294  3.584943e-08    SE  120  61.263111  1.048866e+19   \n",
       "2 -54.817657    -4.15294  3.584943e-08    SE  120  61.263111  1.048866e+19   \n",
       "3 -54.817657    -4.15294  3.584943e-08    SE  120  61.263111  1.048866e+19   \n",
       "4 -54.817657    -4.15294  3.584943e-08    SE  120  61.263111  1.048866e+19   \n",
       "\n",
       "       time         BIC  max_ll_null       LLR      pval      qval  \n",
       "0  0.099319  128.785281   -54.819752  0.002095  0.963493  0.039628  \n",
       "1  0.001692  128.785281   -54.819752  0.002095  0.963493  0.039628  \n",
       "2  0.001639  128.785281   -54.819752  0.002095  0.963493  0.039628  \n",
       "3  0.001645  128.785281   -54.819752  0.002095  0.963493  0.039628  \n",
       "4  0.001637  128.785281   -54.819752  0.002095  0.963493  0.039628  "
      ]
     },
     "execution_count": 16,
     "metadata": {},
     "output_type": "execute_result"
    }
   ],
   "source": [
    "results = SpatialDE.run(X, dfm)\n",
    "results.to_csv('results_DsRed2-HeLa_4_5_LLO1_Cell0.csv')\n",
    "results.head()"
   ]
  },
  {
   "cell_type": "code",
   "execution_count": 17,
   "metadata": {},
   "outputs": [
    {
     "name": "stderr",
     "output_type": "stream",
     "text": [
      "INFO:root:Performing model search\n",
      "INFO:root:Pre-calculating USU^T = K's ...\n",
      "INFO:root:Done: 0.074s\n",
      "INFO:root:Fitting gene models\n",
      "INFO:root:Model 1 of 11\n",
      "INFO:root:Model 2 of 11                                 \n",
      "INFO:root:Model 3 of 11                                 \n",
      "INFO:root:Model 4 of 11                                 \n",
      "INFO:root:Model 5 of 11                                 \n",
      "INFO:root:Model 6 of 11                                 \n",
      "INFO:root:Model 7 of 11                                \n",
      "INFO:root:Model 8 of 11                                 \n",
      "INFO:root:Model 9 of 11                                 \n",
      "INFO:root:Model 10 of 11                                \n",
      "INFO:root:Model 11 of 11                                \n",
      "                                                        \r"
     ]
    },
    {
     "data": {
      "text/html": [
       "<div>\n",
       "<style scoped>\n",
       "    .dataframe tbody tr th:only-of-type {\n",
       "        vertical-align: middle;\n",
       "    }\n",
       "\n",
       "    .dataframe tbody tr th {\n",
       "        vertical-align: top;\n",
       "    }\n",
       "\n",
       "    .dataframe thead th {\n",
       "        text-align: right;\n",
       "    }\n",
       "</style>\n",
       "<table border=\"1\" class=\"dataframe\">\n",
       "  <thead>\n",
       "    <tr style=\"text-align: right;\">\n",
       "      <th></th>\n",
       "      <th>BIC</th>\n",
       "      <th>FSV</th>\n",
       "      <th>LLR</th>\n",
       "      <th>M</th>\n",
       "      <th>g</th>\n",
       "      <th>l</th>\n",
       "      <th>max_delta</th>\n",
       "      <th>max_ll</th>\n",
       "      <th>max_mu_hat</th>\n",
       "      <th>max_s2_t_hat</th>\n",
       "      <th>...</th>\n",
       "      <th>n</th>\n",
       "      <th>s2_FSV</th>\n",
       "      <th>s2_logdelta</th>\n",
       "      <th>time</th>\n",
       "      <th>PER_prob</th>\n",
       "      <th>SE_prob</th>\n",
       "      <th>linear_prob</th>\n",
       "      <th>pval</th>\n",
       "      <th>qval</th>\n",
       "      <th>max_ll_null</th>\n",
       "    </tr>\n",
       "  </thead>\n",
       "  <tbody>\n",
       "    <tr>\n",
       "      <th>0</th>\n",
       "      <td>123.997789</td>\n",
       "      <td>1.731942e-10</td>\n",
       "      <td>NaN</td>\n",
       "      <td>3</td>\n",
       "      <td>0.000000000000000000e+00.102536</td>\n",
       "      <td>NaN</td>\n",
       "      <td>4.851652e+08</td>\n",
       "      <td>-54.817657</td>\n",
       "      <td>-4.15294</td>\n",
       "      <td>3.584943e-08</td>\n",
       "      <td>...</td>\n",
       "      <td>120</td>\n",
       "      <td>0.000083</td>\n",
       "      <td>2.013133e+15</td>\n",
       "      <td>0.005405</td>\n",
       "      <td>0.008257</td>\n",
       "      <td>0.008196</td>\n",
       "      <td>0.983547</td>\n",
       "      <td>0.963493</td>\n",
       "      <td>0.039628</td>\n",
       "      <td>-54.819752</td>\n",
       "    </tr>\n",
       "    <tr>\n",
       "      <th>1</th>\n",
       "      <td>123.997789</td>\n",
       "      <td>1.731942e-10</td>\n",
       "      <td>NaN</td>\n",
       "      <td>3</td>\n",
       "      <td>0.000000000000000000e+00.102537</td>\n",
       "      <td>NaN</td>\n",
       "      <td>4.851652e+08</td>\n",
       "      <td>-54.817657</td>\n",
       "      <td>-4.15294</td>\n",
       "      <td>3.584943e-08</td>\n",
       "      <td>...</td>\n",
       "      <td>120</td>\n",
       "      <td>0.000083</td>\n",
       "      <td>2.013133e+15</td>\n",
       "      <td>0.003362</td>\n",
       "      <td>0.008257</td>\n",
       "      <td>0.008196</td>\n",
       "      <td>0.983547</td>\n",
       "      <td>0.963493</td>\n",
       "      <td>0.039628</td>\n",
       "      <td>-54.819752</td>\n",
       "    </tr>\n",
       "    <tr>\n",
       "      <th>2</th>\n",
       "      <td>123.997789</td>\n",
       "      <td>1.731942e-10</td>\n",
       "      <td>NaN</td>\n",
       "      <td>3</td>\n",
       "      <td>0.000000000000000000e+00.102538</td>\n",
       "      <td>NaN</td>\n",
       "      <td>4.851652e+08</td>\n",
       "      <td>-54.817657</td>\n",
       "      <td>-4.15294</td>\n",
       "      <td>3.584943e-08</td>\n",
       "      <td>...</td>\n",
       "      <td>120</td>\n",
       "      <td>0.000083</td>\n",
       "      <td>2.013133e+15</td>\n",
       "      <td>0.003271</td>\n",
       "      <td>0.008257</td>\n",
       "      <td>0.008196</td>\n",
       "      <td>0.983547</td>\n",
       "      <td>0.963493</td>\n",
       "      <td>0.039628</td>\n",
       "      <td>-54.819752</td>\n",
       "    </tr>\n",
       "    <tr>\n",
       "      <th>3</th>\n",
       "      <td>123.997789</td>\n",
       "      <td>1.731942e-10</td>\n",
       "      <td>NaN</td>\n",
       "      <td>3</td>\n",
       "      <td>0.000000000000000000e+00.102539</td>\n",
       "      <td>NaN</td>\n",
       "      <td>4.851652e+08</td>\n",
       "      <td>-54.817657</td>\n",
       "      <td>-4.15294</td>\n",
       "      <td>3.584943e-08</td>\n",
       "      <td>...</td>\n",
       "      <td>120</td>\n",
       "      <td>0.000083</td>\n",
       "      <td>2.013133e+15</td>\n",
       "      <td>0.003872</td>\n",
       "      <td>0.008257</td>\n",
       "      <td>0.008196</td>\n",
       "      <td>0.983547</td>\n",
       "      <td>0.963493</td>\n",
       "      <td>0.039628</td>\n",
       "      <td>-54.819752</td>\n",
       "    </tr>\n",
       "    <tr>\n",
       "      <th>4</th>\n",
       "      <td>123.997789</td>\n",
       "      <td>1.731942e-10</td>\n",
       "      <td>NaN</td>\n",
       "      <td>3</td>\n",
       "      <td>0.000000000000000000e+00.102540</td>\n",
       "      <td>NaN</td>\n",
       "      <td>4.851652e+08</td>\n",
       "      <td>-54.817657</td>\n",
       "      <td>-4.15294</td>\n",
       "      <td>3.584943e-08</td>\n",
       "      <td>...</td>\n",
       "      <td>120</td>\n",
       "      <td>0.000083</td>\n",
       "      <td>2.013133e+15</td>\n",
       "      <td>0.002454</td>\n",
       "      <td>0.008257</td>\n",
       "      <td>0.008196</td>\n",
       "      <td>0.983547</td>\n",
       "      <td>0.963493</td>\n",
       "      <td>0.039628</td>\n",
       "      <td>-54.819752</td>\n",
       "    </tr>\n",
       "  </tbody>\n",
       "</table>\n",
       "<p>5 rows × 21 columns</p>\n",
       "</div>"
      ],
      "text/plain": [
       "          BIC           FSV  LLR  M                                g   l  \\\n",
       "0  123.997789  1.731942e-10  NaN  3  0.000000000000000000e+00.102536 NaN   \n",
       "1  123.997789  1.731942e-10  NaN  3  0.000000000000000000e+00.102537 NaN   \n",
       "2  123.997789  1.731942e-10  NaN  3  0.000000000000000000e+00.102538 NaN   \n",
       "3  123.997789  1.731942e-10  NaN  3  0.000000000000000000e+00.102539 NaN   \n",
       "4  123.997789  1.731942e-10  NaN  3  0.000000000000000000e+00.102540 NaN   \n",
       "\n",
       "      max_delta     max_ll  max_mu_hat  max_s2_t_hat     ...         n  \\\n",
       "0  4.851652e+08 -54.817657    -4.15294  3.584943e-08     ...       120   \n",
       "1  4.851652e+08 -54.817657    -4.15294  3.584943e-08     ...       120   \n",
       "2  4.851652e+08 -54.817657    -4.15294  3.584943e-08     ...       120   \n",
       "3  4.851652e+08 -54.817657    -4.15294  3.584943e-08     ...       120   \n",
       "4  4.851652e+08 -54.817657    -4.15294  3.584943e-08     ...       120   \n",
       "\n",
       "     s2_FSV   s2_logdelta      time  PER_prob   SE_prob  linear_prob  \\\n",
       "0  0.000083  2.013133e+15  0.005405  0.008257  0.008196     0.983547   \n",
       "1  0.000083  2.013133e+15  0.003362  0.008257  0.008196     0.983547   \n",
       "2  0.000083  2.013133e+15  0.003271  0.008257  0.008196     0.983547   \n",
       "3  0.000083  2.013133e+15  0.003872  0.008257  0.008196     0.983547   \n",
       "4  0.000083  2.013133e+15  0.002454  0.008257  0.008196     0.983547   \n",
       "\n",
       "       pval      qval  max_ll_null  \n",
       "0  0.963493  0.039628   -54.819752  \n",
       "1  0.963493  0.039628   -54.819752  \n",
       "2  0.963493  0.039628   -54.819752  \n",
       "3  0.963493  0.039628   -54.819752  \n",
       "4  0.963493  0.039628   -54.819752  \n",
       "\n",
       "[5 rows x 21 columns]"
      ]
     },
     "execution_count": 17,
     "metadata": {},
     "output_type": "execute_result"
    }
   ],
   "source": [
    "ms_results = SpatialDE.model_search(X, dfm, results)\n",
    "ms_results.to_csv('MS_results_DsRed2-HeLa_4_5_LLO1_Cell0.csv')\n",
    "ms_results.head()"
   ]
  },
  {
   "cell_type": "code",
   "execution_count": 18,
   "metadata": {},
   "outputs": [
    {
     "data": {
      "text/plain": [
       "(262144, 18)"
      ]
     },
     "execution_count": 18,
     "metadata": {},
     "output_type": "execute_result"
    }
   ],
   "source": [
    "results.shape"
   ]
  },
  {
   "cell_type": "code",
   "execution_count": 19,
   "metadata": {},
   "outputs": [
    {
     "data": {
      "text/plain": [
       "(262144, 21)"
      ]
     },
     "execution_count": 19,
     "metadata": {},
     "output_type": "execute_result"
    }
   ],
   "source": [
    "ms_results.shape"
   ]
  },
  {
   "cell_type": "code",
   "execution_count": null,
   "metadata": {},
   "outputs": [],
   "source": []
  }
 ],
 "metadata": {
  "kernelspec": {
   "display_name": "Python 3",
   "language": "python",
   "name": "python3"
  },
  "language_info": {
   "codemirror_mode": {
    "name": "ipython",
    "version": 3
   },
   "file_extension": ".py",
   "mimetype": "text/x-python",
   "name": "python",
   "nbconvert_exporter": "python",
   "pygments_lexer": "ipython3",
   "version": "3.6.4"
  }
 },
 "nbformat": 4,
 "nbformat_minor": 2
}
