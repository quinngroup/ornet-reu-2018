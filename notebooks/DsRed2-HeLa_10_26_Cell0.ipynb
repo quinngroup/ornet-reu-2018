{
 "cells": [
  {
   "cell_type": "code",
   "execution_count": 1,
   "metadata": {},
   "outputs": [],
   "source": [
    "import numpy as np\n",
    "import read_video, raster_scan2\n",
    "import pandas as pd\n",
    "import SpatialDE\n",
    "import NaiveDE"
   ]
  },
  {
   "cell_type": "code",
   "execution_count": 2,
   "metadata": {},
   "outputs": [
    {
     "name": "stderr",
     "output_type": "stream",
     "text": [
      "/anaconda3/lib/python3.6/site-packages/skimage/util/dtype.py:122: UserWarning: Possible precision loss when converting from float64 to uint8\n",
      "  .format(dtypeobj_in, dtypeobj_out))\n"
     ]
    }
   ],
   "source": [
    "# Convert video into grayscale 3D array\n",
    "array_3d = read_video.read_video(\"/Users/BrittanyDorsey/Desktop/my-notebook/OrNet-Data/DsRed2-HeLa_10_26_Cell0.mov\")\n",
    "\n",
    "# Convert 3D array into 2D array (F, H * W)\n",
    "array_2d = raster_scan2.raster_scan(array_3d[1])\n",
    "\n",
    "# Save as csv file\n",
    "np.savetxt(array_3d[0] + str('.csv'), array_2d, delimiter=',')\n",
    "\n",
    "# This csv file is now ready for SpatialDE"
   ]
  },
  {
   "cell_type": "code",
   "execution_count": 3,
   "metadata": {},
   "outputs": [
    {
     "data": {
      "text/plain": [
       "(134, 512, 512)"
      ]
     },
     "execution_count": 3,
     "metadata": {},
     "output_type": "execute_result"
    }
   ],
   "source": [
    "array_3d[1].shape"
   ]
  },
  {
   "cell_type": "code",
   "execution_count": 4,
   "metadata": {},
   "outputs": [
    {
     "data": {
      "text/plain": [
       "(134, 262144)"
      ]
     },
     "execution_count": 4,
     "metadata": {},
     "output_type": "execute_result"
    }
   ],
   "source": [
    "array_2d.shape"
   ]
  },
  {
   "cell_type": "code",
   "execution_count": 6,
   "metadata": {},
   "outputs": [],
   "source": [
    "df = pd.read_csv(\"/Users/BrittanyDorsey/Desktop/my-notebook/MyRepo/ornet-reu-2018/src/DsRed2-HeLa_10_26_Cell0.csv\")"
   ]
  },
  {
   "cell_type": "code",
   "execution_count": 7,
   "metadata": {},
   "outputs": [
    {
     "data": {
      "text/plain": [
       "(133, 262144)"
      ]
     },
     "execution_count": 7,
     "metadata": {},
     "output_type": "execute_result"
    }
   ],
   "source": [
    "df.shape"
   ]
  },
  {
   "cell_type": "code",
   "execution_count": 8,
   "metadata": {},
   "outputs": [
    {
     "data": {
      "text/plain": [
       "(133, 2)"
      ]
     },
     "execution_count": 8,
     "metadata": {},
     "output_type": "execute_result"
    }
   ],
   "source": [
    "sample_info = pd.read_csv(\"/Users/BrittanyDorsey/Desktop/my-notebook/MyRepo/ornet-reu-2018/sample_info/sample_info_DsRed2-HeLa_10_26_Cell0.csv\")\n",
    "sample_info.shape"
   ]
  },
  {
   "cell_type": "code",
   "execution_count": 9,
   "metadata": {},
   "outputs": [
    {
     "data": {
      "text/plain": [
       "(133, 1)"
      ]
     },
     "execution_count": 9,
     "metadata": {},
     "output_type": "execute_result"
    }
   ],
   "source": [
    "X = sample_info[['frame_num']]\n",
    "X.shape"
   ]
  },
  {
   "cell_type": "code",
   "execution_count": 10,
   "metadata": {},
   "outputs": [
    {
     "data": {
      "text/plain": [
       "(133, 262144)"
      ]
     },
     "execution_count": 10,
     "metadata": {},
     "output_type": "execute_result"
    }
   ],
   "source": [
    "dfm = NaiveDE.stabilize(df)\n",
    "dfm.shape"
   ]
  },
  {
   "cell_type": "code",
   "execution_count": 11,
   "metadata": {},
   "outputs": [
    {
     "name": "stderr",
     "output_type": "stream",
     "text": [
      "INFO:root:Performing DE test\n",
      "INFO:root:Pre-calculating USU^T = K's ...\n",
      "INFO:root:Done: 1.1s\n",
      "INFO:root:Fitting gene models\n",
      "INFO:root:Model 1 of 10\n",
      "INFO:root:Model 2 of 10                                 \n",
      "INFO:root:Model 3 of 10                                 \n",
      "INFO:root:Model 4 of 10                                 \n",
      "INFO:root:Model 5 of 10                                  \n",
      "INFO:root:Model 6 of 10                                 \n",
      "INFO:root:Model 7 of 10                                 \n",
      "INFO:root:Model 8 of 10                                  \n",
      "INFO:root:Model 9 of 10                                 \n",
      "INFO:root:Model 10 of 10                                \n",
      "                                                        \r"
     ]
    },
    {
     "data": {
      "text/html": [
       "<div>\n",
       "<style scoped>\n",
       "    .dataframe tbody tr th:only-of-type {\n",
       "        vertical-align: middle;\n",
       "    }\n",
       "\n",
       "    .dataframe tbody tr th {\n",
       "        vertical-align: top;\n",
       "    }\n",
       "\n",
       "    .dataframe thead th {\n",
       "        text-align: right;\n",
       "    }\n",
       "</style>\n",
       "<table border=\"1\" class=\"dataframe\">\n",
       "  <thead>\n",
       "    <tr style=\"text-align: right;\">\n",
       "      <th></th>\n",
       "      <th>FSV</th>\n",
       "      <th>M</th>\n",
       "      <th>g</th>\n",
       "      <th>l</th>\n",
       "      <th>max_delta</th>\n",
       "      <th>max_ll</th>\n",
       "      <th>max_mu_hat</th>\n",
       "      <th>max_s2_t_hat</th>\n",
       "      <th>model</th>\n",
       "      <th>n</th>\n",
       "      <th>s2_FSV</th>\n",
       "      <th>s2_logdelta</th>\n",
       "      <th>time</th>\n",
       "      <th>BIC</th>\n",
       "      <th>max_ll_null</th>\n",
       "      <th>LLR</th>\n",
       "      <th>pval</th>\n",
       "      <th>qval</th>\n",
       "    </tr>\n",
       "  </thead>\n",
       "  <tbody>\n",
       "    <tr>\n",
       "      <th>0</th>\n",
       "      <td>2.056949e-09</td>\n",
       "      <td>4</td>\n",
       "      <td>0.000000000000000000e+00.80408</td>\n",
       "      <td>0.5</td>\n",
       "      <td>4.851652e+08</td>\n",
       "      <td>-50.551232</td>\n",
       "      <td>-4.048768</td>\n",
       "      <td>3.404560e-08</td>\n",
       "      <td>SE</td>\n",
       "      <td>133</td>\n",
       "      <td>61.561951</td>\n",
       "      <td>1.053516e+19</td>\n",
       "      <td>0.002020</td>\n",
       "      <td>120.663861</td>\n",
       "      <td>-50.553121</td>\n",
       "      <td>0.001889</td>\n",
       "      <td>0.965331</td>\n",
       "      <td>0.052692</td>\n",
       "    </tr>\n",
       "    <tr>\n",
       "      <th>1</th>\n",
       "      <td>2.056949e-09</td>\n",
       "      <td>4</td>\n",
       "      <td>0.000000000000000000e+00.80409</td>\n",
       "      <td>0.5</td>\n",
       "      <td>4.851652e+08</td>\n",
       "      <td>-50.551232</td>\n",
       "      <td>-4.048768</td>\n",
       "      <td>3.404560e-08</td>\n",
       "      <td>SE</td>\n",
       "      <td>133</td>\n",
       "      <td>61.561951</td>\n",
       "      <td>1.053516e+19</td>\n",
       "      <td>0.002006</td>\n",
       "      <td>120.663861</td>\n",
       "      <td>-50.553121</td>\n",
       "      <td>0.001889</td>\n",
       "      <td>0.965331</td>\n",
       "      <td>0.052692</td>\n",
       "    </tr>\n",
       "    <tr>\n",
       "      <th>2</th>\n",
       "      <td>2.056949e-09</td>\n",
       "      <td>4</td>\n",
       "      <td>0.000000000000000000e+00.80410</td>\n",
       "      <td>0.5</td>\n",
       "      <td>4.851652e+08</td>\n",
       "      <td>-50.551232</td>\n",
       "      <td>-4.048768</td>\n",
       "      <td>3.404560e-08</td>\n",
       "      <td>SE</td>\n",
       "      <td>133</td>\n",
       "      <td>61.561951</td>\n",
       "      <td>1.053516e+19</td>\n",
       "      <td>0.001997</td>\n",
       "      <td>120.663861</td>\n",
       "      <td>-50.553121</td>\n",
       "      <td>0.001889</td>\n",
       "      <td>0.965331</td>\n",
       "      <td>0.052692</td>\n",
       "    </tr>\n",
       "    <tr>\n",
       "      <th>3</th>\n",
       "      <td>2.056949e-09</td>\n",
       "      <td>4</td>\n",
       "      <td>0.000000000000000000e+00.80411</td>\n",
       "      <td>0.5</td>\n",
       "      <td>4.851652e+08</td>\n",
       "      <td>-50.551232</td>\n",
       "      <td>-4.048768</td>\n",
       "      <td>3.404560e-08</td>\n",
       "      <td>SE</td>\n",
       "      <td>133</td>\n",
       "      <td>61.561951</td>\n",
       "      <td>1.053516e+19</td>\n",
       "      <td>0.002187</td>\n",
       "      <td>120.663861</td>\n",
       "      <td>-50.553121</td>\n",
       "      <td>0.001889</td>\n",
       "      <td>0.965331</td>\n",
       "      <td>0.052692</td>\n",
       "    </tr>\n",
       "    <tr>\n",
       "      <th>4</th>\n",
       "      <td>2.056949e-09</td>\n",
       "      <td>4</td>\n",
       "      <td>0.000000000000000000e+00.80412</td>\n",
       "      <td>0.5</td>\n",
       "      <td>4.851652e+08</td>\n",
       "      <td>-50.551232</td>\n",
       "      <td>-4.048768</td>\n",
       "      <td>3.404560e-08</td>\n",
       "      <td>SE</td>\n",
       "      <td>133</td>\n",
       "      <td>61.561951</td>\n",
       "      <td>1.053516e+19</td>\n",
       "      <td>0.002013</td>\n",
       "      <td>120.663861</td>\n",
       "      <td>-50.553121</td>\n",
       "      <td>0.001889</td>\n",
       "      <td>0.965331</td>\n",
       "      <td>0.052692</td>\n",
       "    </tr>\n",
       "  </tbody>\n",
       "</table>\n",
       "</div>"
      ],
      "text/plain": [
       "            FSV  M                               g    l     max_delta  \\\n",
       "0  2.056949e-09  4  0.000000000000000000e+00.80408  0.5  4.851652e+08   \n",
       "1  2.056949e-09  4  0.000000000000000000e+00.80409  0.5  4.851652e+08   \n",
       "2  2.056949e-09  4  0.000000000000000000e+00.80410  0.5  4.851652e+08   \n",
       "3  2.056949e-09  4  0.000000000000000000e+00.80411  0.5  4.851652e+08   \n",
       "4  2.056949e-09  4  0.000000000000000000e+00.80412  0.5  4.851652e+08   \n",
       "\n",
       "      max_ll  max_mu_hat  max_s2_t_hat model    n     s2_FSV   s2_logdelta  \\\n",
       "0 -50.551232   -4.048768  3.404560e-08    SE  133  61.561951  1.053516e+19   \n",
       "1 -50.551232   -4.048768  3.404560e-08    SE  133  61.561951  1.053516e+19   \n",
       "2 -50.551232   -4.048768  3.404560e-08    SE  133  61.561951  1.053516e+19   \n",
       "3 -50.551232   -4.048768  3.404560e-08    SE  133  61.561951  1.053516e+19   \n",
       "4 -50.551232   -4.048768  3.404560e-08    SE  133  61.561951  1.053516e+19   \n",
       "\n",
       "       time         BIC  max_ll_null       LLR      pval      qval  \n",
       "0  0.002020  120.663861   -50.553121  0.001889  0.965331  0.052692  \n",
       "1  0.002006  120.663861   -50.553121  0.001889  0.965331  0.052692  \n",
       "2  0.001997  120.663861   -50.553121  0.001889  0.965331  0.052692  \n",
       "3  0.002187  120.663861   -50.553121  0.001889  0.965331  0.052692  \n",
       "4  0.002013  120.663861   -50.553121  0.001889  0.965331  0.052692  "
      ]
     },
     "execution_count": 11,
     "metadata": {},
     "output_type": "execute_result"
    }
   ],
   "source": [
    "results = SpatialDE.run(X, dfm)\n",
    "results.to_csv('results_DsRed2-HeLa_10_26_Cell0.csv')\n",
    "results.head()"
   ]
  },
  {
   "cell_type": "code",
   "execution_count": 12,
   "metadata": {},
   "outputs": [
    {
     "name": "stderr",
     "output_type": "stream",
     "text": [
      "INFO:root:Performing model search\n",
      "INFO:root:Pre-calculating USU^T = K's ...\n",
      "INFO:root:Done: 0.048s\n",
      "INFO:root:Fitting gene models\n",
      "INFO:root:Model 1 of 11\n",
      "INFO:root:Model 2 of 11                                 \n",
      "INFO:root:Model 3 of 11                                 \n",
      "INFO:root:Model 4 of 11                                 \n",
      "INFO:root:Model 5 of 11                                 \n",
      "INFO:root:Model 6 of 11                                 \n",
      "INFO:root:Model 7 of 11                                 \n",
      "INFO:root:Model 8 of 11                                 \n",
      "INFO:root:Model 9 of 11                                 \n",
      "INFO:root:Model 10 of 11                                \n",
      "INFO:root:Model 11 of 11                                \n",
      "                                                        \r"
     ]
    },
    {
     "data": {
      "text/html": [
       "<div>\n",
       "<style scoped>\n",
       "    .dataframe tbody tr th:only-of-type {\n",
       "        vertical-align: middle;\n",
       "    }\n",
       "\n",
       "    .dataframe tbody tr th {\n",
       "        vertical-align: top;\n",
       "    }\n",
       "\n",
       "    .dataframe thead th {\n",
       "        text-align: right;\n",
       "    }\n",
       "</style>\n",
       "<table border=\"1\" class=\"dataframe\">\n",
       "  <thead>\n",
       "    <tr style=\"text-align: right;\">\n",
       "      <th></th>\n",
       "      <th>BIC</th>\n",
       "      <th>FSV</th>\n",
       "      <th>LLR</th>\n",
       "      <th>M</th>\n",
       "      <th>g</th>\n",
       "      <th>l</th>\n",
       "      <th>max_delta</th>\n",
       "      <th>max_ll</th>\n",
       "      <th>max_mu_hat</th>\n",
       "      <th>max_s2_t_hat</th>\n",
       "      <th>...</th>\n",
       "      <th>n</th>\n",
       "      <th>s2_FSV</th>\n",
       "      <th>s2_logdelta</th>\n",
       "      <th>time</th>\n",
       "      <th>PER_prob</th>\n",
       "      <th>SE_prob</th>\n",
       "      <th>linear_prob</th>\n",
       "      <th>pval</th>\n",
       "      <th>qval</th>\n",
       "      <th>max_ll_null</th>\n",
       "    </tr>\n",
       "  </thead>\n",
       "  <tbody>\n",
       "    <tr>\n",
       "      <th>0</th>\n",
       "      <td>115.773512</td>\n",
       "      <td>1.730543e-10</td>\n",
       "      <td>NaN</td>\n",
       "      <td>3</td>\n",
       "      <td>0.000000000000000000e+00.80408</td>\n",
       "      <td>NaN</td>\n",
       "      <td>4.851652e+08</td>\n",
       "      <td>-50.551232</td>\n",
       "      <td>-4.048768</td>\n",
       "      <td>3.404559e-08</td>\n",
       "      <td>...</td>\n",
       "      <td>133</td>\n",
       "      <td>0.000029</td>\n",
       "      <td>6.946786e+14</td>\n",
       "      <td>0.003193</td>\n",
       "      <td>0.007407</td>\n",
       "      <td>0.007407</td>\n",
       "      <td>0.985185</td>\n",
       "      <td>0.965331</td>\n",
       "      <td>0.052692</td>\n",
       "      <td>-50.553121</td>\n",
       "    </tr>\n",
       "    <tr>\n",
       "      <th>1</th>\n",
       "      <td>115.773512</td>\n",
       "      <td>1.730543e-10</td>\n",
       "      <td>NaN</td>\n",
       "      <td>3</td>\n",
       "      <td>0.000000000000000000e+00.80409</td>\n",
       "      <td>NaN</td>\n",
       "      <td>4.851652e+08</td>\n",
       "      <td>-50.551232</td>\n",
       "      <td>-4.048768</td>\n",
       "      <td>3.404559e-08</td>\n",
       "      <td>...</td>\n",
       "      <td>133</td>\n",
       "      <td>0.000029</td>\n",
       "      <td>6.946786e+14</td>\n",
       "      <td>0.002965</td>\n",
       "      <td>0.007407</td>\n",
       "      <td>0.007407</td>\n",
       "      <td>0.985185</td>\n",
       "      <td>0.965331</td>\n",
       "      <td>0.052692</td>\n",
       "      <td>-50.553121</td>\n",
       "    </tr>\n",
       "    <tr>\n",
       "      <th>2</th>\n",
       "      <td>115.773512</td>\n",
       "      <td>1.730543e-10</td>\n",
       "      <td>NaN</td>\n",
       "      <td>3</td>\n",
       "      <td>0.000000000000000000e+00.80410</td>\n",
       "      <td>NaN</td>\n",
       "      <td>4.851652e+08</td>\n",
       "      <td>-50.551232</td>\n",
       "      <td>-4.048768</td>\n",
       "      <td>3.404559e-08</td>\n",
       "      <td>...</td>\n",
       "      <td>133</td>\n",
       "      <td>0.000029</td>\n",
       "      <td>6.946786e+14</td>\n",
       "      <td>0.003691</td>\n",
       "      <td>0.007407</td>\n",
       "      <td>0.007407</td>\n",
       "      <td>0.985185</td>\n",
       "      <td>0.965331</td>\n",
       "      <td>0.052692</td>\n",
       "      <td>-50.553121</td>\n",
       "    </tr>\n",
       "    <tr>\n",
       "      <th>3</th>\n",
       "      <td>115.773512</td>\n",
       "      <td>1.730543e-10</td>\n",
       "      <td>NaN</td>\n",
       "      <td>3</td>\n",
       "      <td>0.000000000000000000e+00.80411</td>\n",
       "      <td>NaN</td>\n",
       "      <td>4.851652e+08</td>\n",
       "      <td>-50.551232</td>\n",
       "      <td>-4.048768</td>\n",
       "      <td>3.404559e-08</td>\n",
       "      <td>...</td>\n",
       "      <td>133</td>\n",
       "      <td>0.000029</td>\n",
       "      <td>6.946786e+14</td>\n",
       "      <td>0.003947</td>\n",
       "      <td>0.007407</td>\n",
       "      <td>0.007407</td>\n",
       "      <td>0.985185</td>\n",
       "      <td>0.965331</td>\n",
       "      <td>0.052692</td>\n",
       "      <td>-50.553121</td>\n",
       "    </tr>\n",
       "    <tr>\n",
       "      <th>4</th>\n",
       "      <td>115.773512</td>\n",
       "      <td>1.730543e-10</td>\n",
       "      <td>NaN</td>\n",
       "      <td>3</td>\n",
       "      <td>0.000000000000000000e+00.80412</td>\n",
       "      <td>NaN</td>\n",
       "      <td>4.851652e+08</td>\n",
       "      <td>-50.551232</td>\n",
       "      <td>-4.048768</td>\n",
       "      <td>3.404559e-08</td>\n",
       "      <td>...</td>\n",
       "      <td>133</td>\n",
       "      <td>0.000029</td>\n",
       "      <td>6.946786e+14</td>\n",
       "      <td>0.003812</td>\n",
       "      <td>0.007407</td>\n",
       "      <td>0.007407</td>\n",
       "      <td>0.985185</td>\n",
       "      <td>0.965331</td>\n",
       "      <td>0.052692</td>\n",
       "      <td>-50.553121</td>\n",
       "    </tr>\n",
       "  </tbody>\n",
       "</table>\n",
       "<p>5 rows × 21 columns</p>\n",
       "</div>"
      ],
      "text/plain": [
       "          BIC           FSV  LLR  M                               g   l  \\\n",
       "0  115.773512  1.730543e-10  NaN  3  0.000000000000000000e+00.80408 NaN   \n",
       "1  115.773512  1.730543e-10  NaN  3  0.000000000000000000e+00.80409 NaN   \n",
       "2  115.773512  1.730543e-10  NaN  3  0.000000000000000000e+00.80410 NaN   \n",
       "3  115.773512  1.730543e-10  NaN  3  0.000000000000000000e+00.80411 NaN   \n",
       "4  115.773512  1.730543e-10  NaN  3  0.000000000000000000e+00.80412 NaN   \n",
       "\n",
       "      max_delta     max_ll  max_mu_hat  max_s2_t_hat     ...         n  \\\n",
       "0  4.851652e+08 -50.551232   -4.048768  3.404559e-08     ...       133   \n",
       "1  4.851652e+08 -50.551232   -4.048768  3.404559e-08     ...       133   \n",
       "2  4.851652e+08 -50.551232   -4.048768  3.404559e-08     ...       133   \n",
       "3  4.851652e+08 -50.551232   -4.048768  3.404559e-08     ...       133   \n",
       "4  4.851652e+08 -50.551232   -4.048768  3.404559e-08     ...       133   \n",
       "\n",
       "     s2_FSV   s2_logdelta      time  PER_prob   SE_prob  linear_prob  \\\n",
       "0  0.000029  6.946786e+14  0.003193  0.007407  0.007407     0.985185   \n",
       "1  0.000029  6.946786e+14  0.002965  0.007407  0.007407     0.985185   \n",
       "2  0.000029  6.946786e+14  0.003691  0.007407  0.007407     0.985185   \n",
       "3  0.000029  6.946786e+14  0.003947  0.007407  0.007407     0.985185   \n",
       "4  0.000029  6.946786e+14  0.003812  0.007407  0.007407     0.985185   \n",
       "\n",
       "       pval      qval  max_ll_null  \n",
       "0  0.965331  0.052692   -50.553121  \n",
       "1  0.965331  0.052692   -50.553121  \n",
       "2  0.965331  0.052692   -50.553121  \n",
       "3  0.965331  0.052692   -50.553121  \n",
       "4  0.965331  0.052692   -50.553121  \n",
       "\n",
       "[5 rows x 21 columns]"
      ]
     },
     "execution_count": 12,
     "metadata": {},
     "output_type": "execute_result"
    }
   ],
   "source": [
    "ms_results = SpatialDE.model_search(X, dfm, results)\n",
    "ms_results.to_csv('MS_results_DsRed2-HeLa_10_26_Cell0.csv')\n",
    "ms_results.head()"
   ]
  },
  {
   "cell_type": "code",
   "execution_count": 13,
   "metadata": {},
   "outputs": [
    {
     "data": {
      "text/plain": [
       "(262144, 18)"
      ]
     },
     "execution_count": 13,
     "metadata": {},
     "output_type": "execute_result"
    }
   ],
   "source": [
    "results.shape"
   ]
  },
  {
   "cell_type": "code",
   "execution_count": 14,
   "metadata": {},
   "outputs": [
    {
     "data": {
      "text/plain": [
       "(262144, 21)"
      ]
     },
     "execution_count": 14,
     "metadata": {},
     "output_type": "execute_result"
    }
   ],
   "source": [
    "ms_results.shape"
   ]
  },
  {
   "cell_type": "code",
   "execution_count": null,
   "metadata": {},
   "outputs": [],
   "source": []
  }
 ],
 "metadata": {
  "kernelspec": {
   "display_name": "Python 3",
   "language": "python",
   "name": "python3"
  },
  "language_info": {
   "codemirror_mode": {
    "name": "ipython",
    "version": 3
   },
   "file_extension": ".py",
   "mimetype": "text/x-python",
   "name": "python",
   "nbconvert_exporter": "python",
   "pygments_lexer": "ipython3",
   "version": "3.6.4"
  }
 },
 "nbformat": 4,
 "nbformat_minor": 2
}
